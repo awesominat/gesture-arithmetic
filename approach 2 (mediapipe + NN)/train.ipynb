{
 "cells": [
  {
   "cell_type": "code",
   "execution_count": 1,
   "metadata": {},
   "outputs": [],
   "source": [
    "import gesture_model\n",
    "import torch\n",
    "import image_dataset_loader\n",
    "from torchvision.transforms import ToTensor\n",
    "from torch.utils.data import DataLoader\n",
    "from torch.utils.tensorboard import SummaryWriter\n",
    "from matplotlib import pyplot as plt"
   ]
  },
  {
   "cell_type": "code",
   "execution_count": 2,
   "metadata": {},
   "outputs": [],
   "source": [
    "EPOCHS = 8\n",
    "batch_size = 8"
   ]
  },
  {
   "cell_type": "code",
   "execution_count": 3,
   "metadata": {},
   "outputs": [],
   "source": [
    "train_dataset, val_dataset, test_dataset = image_dataset_loader.create_datasets('new_train_data/data/', transform = True)\n",
    "\n",
    "train_loader = DataLoader(train_dataset, batch_size=batch_size, shuffle=True)\n",
    "val_loader = DataLoader(val_dataset, batch_size=batch_size, shuffle=False)\n",
    "test_loader = DataLoader(test_dataset, batch_size=batch_size, shuffle=False)"
   ]
  },
  {
   "cell_type": "code",
   "execution_count": 23,
   "metadata": {},
   "outputs": [],
   "source": [
    "from sklearn import svm\n",
    "t = DataLoader(train_dataset, batch_size=1000, shuffle=True)"
   ]
  },
  {
   "cell_type": "code",
   "execution_count": 25,
   "metadata": {},
   "outputs": [
    {
     "name": "stdout",
     "output_type": "stream",
     "text": [
      "85\n",
      "torch.Size([85, 42])\n"
     ]
    }
   ],
   "source": [
    "for i, info in enumerate(t):\n",
    "    landmarks, labels = info\n",
    "    print(len(labels))\n",
    "    print(landmarks.shape)\n",
    "    clf = svm.LinearSVC(dual=\"auto\")\n",
    "    clf.fit(landmarks.to('cpu'), labels.to('cpu'))"
   ]
  },
  {
   "cell_type": "code",
   "execution_count": 29,
   "metadata": {},
   "outputs": [
    {
     "name": "stdout",
     "output_type": "stream",
     "text": [
      "tensor(1)\n",
      "[[-0.79147003  0.54658324 -0.79154286 -0.86740709 -1.44872678 -1.11523049]]\n"
     ]
    }
   ],
   "source": [
    "for i, info in enumerate(val_loader):\n",
    "    landmarks, labels = info\n",
    "\n",
    "    print(labels[5])\n",
    "    dec = clf.decision_function(landmarks.to('cpu')[5].view(1, -1))\n",
    "    print(dec)\n",
    "    break"
   ]
  },
  {
   "cell_type": "code",
   "execution_count": 4,
   "metadata": {},
   "outputs": [
    {
     "name": "stdout",
     "output_type": "stream",
     "text": [
      "tensor(4)\n"
     ]
    },
    {
     "data": {
      "image/png": "[encoded data removed]",
      "text/plain": [
       "<Figure size 640x480 with 1 Axes>"
      ]
     },
     "metadata": {},
     "output_type": "display_data"
    }
   ],
   "source": [
    "for i, info in enumerate(train_loader):\n",
    "    landmarks, labels = info\n",
    "    \n",
    "    print(labels[0])\n",
    "    shaped = landmarks[0].to('cpu').view(1, 21, 2)\n",
    "    for i in range(shaped.shape[0]):\n",
    "        x, y = zip(*shaped[i])\n",
    "\n",
    "        fig = plt.figure()\n",
    "        ax = fig.add_subplot(111, projection='3d')\n",
    "\n",
    "        ax.scatter(x, y)\n",
    "\n",
    "        ax.set_xlabel('X')\n",
    "        ax.set_ylabel('Y')\n",
    "        ax.set_zlabel('Depth')\n",
    "        ax.view_init(elev=-90, azim=-90)\n",
    "        plt.show()\n",
    "    break"
   ]
  },
  {
   "attachments": {},
   "cell_type": "markdown",
   "metadata": {},
   "source": [
    "the old version processed the images every epoch causing one epoch to be:\n",
    "    trained in X seconds\n",
    "training on all epochs yielded an accuracy of X2\n",
    "\n",
    "\n",
    "after changing it so the training dataset has pre-processed, flattened landmarks, one epoch only:\n",
    "    takes Y seconds\n",
    "and yielded an accuracy of Y2\n",
    "\n",
    "this is a Z% improvement"
   ]
  },
  {
   "cell_type": "code",
   "execution_count": 5,
   "metadata": {},
   "outputs": [
    {
     "name": "stdout",
     "output_type": "stream",
     "text": [
      "In torch.Size([2, 42]) Out torch.Size([2, 6])\n"
     ]
    }
   ],
   "source": [
    "torch.set_default_dtype(torch.float32)\n",
    "model = gesture_model.GestureModel(6)\n",
    "model = model.float().to('cuda')\n",
    "\n",
    "for param in model.parameters():\n",
    "    if param.dtype != torch.float32:\n",
    "        print(f\"Found a tensor with dtype {param.dtype}\")\n",
    "\n",
    "x = torch.randn(2, 42).float().to('cuda')\n",
    "output = model(x)\n",
    "assert output.shape == torch.Size((2, 6)), 'the output shape is wrong ' + str(output.shape)\n",
    "\n",
    "print(f'In {x.shape} Out {output.shape}')"
   ]
  },
  {
   "cell_type": "code",
   "execution_count": 6,
   "metadata": {},
   "outputs": [],
   "source": [
    "torch.set_default_dtype(torch.float32)\n",
    "model = gesture_model.GestureModel(6)\n",
    "model = model.float().to('cuda')\n",
    "loss = torch.nn.CrossEntropyLoss()\n",
    "optimizer = torch.optim.Adam(model.parameters(), lr = 0.00001)\n",
    "# optimizer = torch.optim.SGD(model.parameters(), lr = 0.00001, momentum=.9)"
   ]
  },
  {
   "cell_type": "code",
   "execution_count": 7,
   "metadata": {},
   "outputs": [],
   "source": [
    "def train_model_one_epoch():\n",
    "    epoch_loss = 0.\n",
    "    debug_print_loss = 0.\n",
    "    total_accuracy = 0\n",
    "    total_f1 = 0\n",
    "    total_samples = 0\n",
    "\n",
    "    for i, data in enumerate(train_loader):\n",
    "        img_path, label = data\n",
    "\n",
    "        label = label.to('cuda')\n",
    "\n",
    "        optimizer.zero_grad()\n",
    "    \n",
    "        # flattened = torch.from_numpy(image_dataset_loader.process_image(img_path, label, True)).to(torch.float32).to('cuda')\n",
    "        # print(data)\n",
    "        forward = model(img_path.to('cuda'))\n",
    "\n",
    "        cur_loss = loss(forward, label)\n",
    "        cur_loss.backward()\n",
    "\n",
    "        epoch_loss += cur_loss.item()\n",
    "        if i % 5 == 0:\n",
    "            debug_print_loss = epoch_loss / 10\n",
    "            epoch_loss = 0\n",
    "            print('  batch {} loss {}'.format(i + 1, debug_print_loss))\n",
    "        total_accuracy += accuracy(forward, label) * label.size(0)\n",
    "        total_f1 += compute_f1(forward, label) * label.size(0)\n",
    "        total_samples += label.size(0)\n",
    "    \n",
    "    epoch_accuracy = total_accuracy / total_samples\n",
    "    epoch_f1 = total_f1 / total_samples\n",
    "    print(f\"Epoch Accuracy: {epoch_accuracy:.4f}, Epoch F1: {epoch_f1:.4f}\")\n",
    "    return debug_print_loss"
   ]
  },
  {
   "cell_type": "code",
   "execution_count": 8,
   "metadata": {},
   "outputs": [],
   "source": [
    "from sklearn.metrics import f1_score\n",
    "def accuracy(output, target):\n",
    "    \"\"\"Compute the accuracy for the current batch.\"\"\"\n",
    "    _, predicted = torch.max(output, 1)\n",
    "    correct = (predicted == target).sum().item()\n",
    "    return correct / target.size(0)\n",
    "\n",
    "def compute_f1(output, target):\n",
    "    \"\"\"Compute the F1 score for the current batch.\"\"\"\n",
    "    _, predicted = torch.max(output, 1)\n",
    "    predicted = predicted.detach().cpu().numpy()\n",
    "    target = target.cpu().numpy()\n",
    "    return f1_score(target, predicted, average='macro')  # 'macro' can be replaced by 'micro' or 'weighted' based on preference"
   ]
  },
  {
   "cell_type": "code",
   "execution_count": 9,
   "metadata": {},
   "outputs": [
    {
     "name": "stdout",
     "output_type": "stream",
     "text": [
      "EPOCH 1\n",
      "  batch 1 loss 0.1813941478729248\n",
      "  batch 6 loss 0.8855290293693543\n",
      "  batch 11 loss 0.9841973066329956\n",
      "Epoch Accuracy: 0.3176, Epoch F1: 0.2687\n",
      "(LOSS) EPOCH 0: train 0.9841973066329956 val 1.8545644283294678\n",
      "EPOCH 2\n",
      "  batch 1 loss 0.2211763858795166\n",
      "  batch 6 loss 0.8734699249267578\n",
      "  batch 11 loss 0.8128756999969482\n",
      "Epoch Accuracy: 0.2706, Epoch F1: 0.2277\n",
      "(LOSS) EPOCH 1: train 0.8128756999969482 val 1.8813810348510742\n",
      "EPOCH 3\n",
      "  batch 1 loss 0.17034339904785156\n",
      "  batch 6 loss 0.9325485348701477\n",
      "  batch 11 loss 0.8400099039077759\n",
      "Epoch Accuracy: 0.2118, Epoch F1: 0.1563\n",
      "(LOSS) EPOCH 2: train 0.8400099039077759 val 1.8573596477508545\n",
      "EPOCH 4\n",
      "  batch 1 loss 0.18463777303695678\n",
      "  batch 6 loss 0.9066697359085083\n",
      "  batch 11 loss 0.8720992803573608\n",
      "Epoch Accuracy: 0.2118, Epoch F1: 0.1590\n",
      "(LOSS) EPOCH 3: train 0.8720992803573608 val 1.8447822332382202\n",
      "EPOCH 5\n",
      "  batch 1 loss 0.11950055360794068\n",
      "  batch 6 loss 0.9587306976318359\n",
      "  batch 11 loss 0.8807135343551635\n",
      "Epoch Accuracy: 0.2353, Epoch F1: 0.1628\n",
      "(LOSS) EPOCH 4: train 0.8807135343551635 val 1.8206366300582886\n",
      "EPOCH 6\n",
      "  batch 1 loss 0.19184597730636596\n",
      "  batch 6 loss 0.9128201127052307\n"
     ]
    },
    {
     "ename": "KeyboardInterrupt",
     "evalue": "",
     "output_type": "error",
     "traceback": [
      "\u001b[1;31m---------------------------------------------------------------------------\u001b[0m",
      "\u001b[1;31mKeyboardInterrupt\u001b[0m                         Traceback (most recent call last)",
      "Cell \u001b[1;32mIn[9], line 9\u001b[0m\n\u001b[0;32m      6\u001b[0m \u001b[39mprint\u001b[39m(\u001b[39mf\u001b[39m\u001b[39m'\u001b[39m\u001b[39mEPOCH \u001b[39m\u001b[39m{\u001b[39;00mcur_epoch\u001b[39m \u001b[39m\u001b[39m+\u001b[39m\u001b[39m \u001b[39m\u001b[39m1\u001b[39m\u001b[39m}\u001b[39;00m\u001b[39m'\u001b[39m)\n\u001b[0;32m      8\u001b[0m model\u001b[39m.\u001b[39mtrain(\u001b[39mTrue\u001b[39;00m)\n\u001b[1;32m----> 9\u001b[0m epoch_loss \u001b[39m=\u001b[39m train_model_one_epoch()\n\u001b[0;32m     11\u001b[0m running_val_loss \u001b[39m=\u001b[39m \u001b[39m0.0\u001b[39m\n\u001b[0;32m     12\u001b[0m model\u001b[39m.\u001b[39meval()\n",
      "Cell \u001b[1;32mIn[7], line 8\u001b[0m, in \u001b[0;36mtrain_model_one_epoch\u001b[1;34m()\u001b[0m\n\u001b[0;32m      5\u001b[0m total_f1 \u001b[39m=\u001b[39m \u001b[39m0\u001b[39m\n\u001b[0;32m      6\u001b[0m total_samples \u001b[39m=\u001b[39m \u001b[39m0\u001b[39m\n\u001b[1;32m----> 8\u001b[0m \u001b[39mfor\u001b[39;00m i, data \u001b[39min\u001b[39;00m \u001b[39menumerate\u001b[39m(train_loader):\n\u001b[0;32m      9\u001b[0m     img_path, label \u001b[39m=\u001b[39m data\n\u001b[0;32m     11\u001b[0m     label \u001b[39m=\u001b[39m label\u001b[39m.\u001b[39mto(\u001b[39m'\u001b[39m\u001b[39mcuda\u001b[39m\u001b[39m'\u001b[39m)\n",
      "File \u001b[1;32mc:\\ProgramData\\miniconda3\\envs\\gesture-arithmetic\\Lib\\site-packages\\torch\\utils\\data\\dataloader.py:630\u001b[0m, in \u001b[0;36m_BaseDataLoaderIter.__next__\u001b[1;34m(self)\u001b[0m\n\u001b[0;32m    627\u001b[0m \u001b[39mif\u001b[39;00m \u001b[39mself\u001b[39m\u001b[39m.\u001b[39m_sampler_iter \u001b[39mis\u001b[39;00m \u001b[39mNone\u001b[39;00m:\n\u001b[0;32m    628\u001b[0m     \u001b[39m# TODO(https://github.com/pytorch/pytorch/issues/76750)\u001b[39;00m\n\u001b[0;32m    629\u001b[0m     \u001b[39mself\u001b[39m\u001b[39m.\u001b[39m_reset()  \u001b[39m# type: ignore[call-arg]\u001b[39;00m\n\u001b[1;32m--> 630\u001b[0m data \u001b[39m=\u001b[39m \u001b[39mself\u001b[39m\u001b[39m.\u001b[39m_next_data()\n\u001b[0;32m    631\u001b[0m \u001b[39mself\u001b[39m\u001b[39m.\u001b[39m_num_yielded \u001b[39m+\u001b[39m\u001b[39m=\u001b[39m \u001b[39m1\u001b[39m\n\u001b[0;32m    632\u001b[0m \u001b[39mif\u001b[39;00m \u001b[39mself\u001b[39m\u001b[39m.\u001b[39m_dataset_kind \u001b[39m==\u001b[39m _DatasetKind\u001b[39m.\u001b[39mIterable \u001b[39mand\u001b[39;00m \\\n\u001b[0;32m    633\u001b[0m         \u001b[39mself\u001b[39m\u001b[39m.\u001b[39m_IterableDataset_len_called \u001b[39mis\u001b[39;00m \u001b[39mnot\u001b[39;00m \u001b[39mNone\u001b[39;00m \u001b[39mand\u001b[39;00m \\\n\u001b[0;32m    634\u001b[0m         \u001b[39mself\u001b[39m\u001b[39m.\u001b[39m_num_yielded \u001b[39m>\u001b[39m \u001b[39mself\u001b[39m\u001b[39m.\u001b[39m_IterableDataset_len_called:\n",
      "File \u001b[1;32mc:\\ProgramData\\miniconda3\\envs\\gesture-arithmetic\\Lib\\site-packages\\torch\\utils\\data\\dataloader.py:674\u001b[0m, in \u001b[0;36m_SingleProcessDataLoaderIter._next_data\u001b[1;34m(self)\u001b[0m\n\u001b[0;32m    672\u001b[0m \u001b[39mdef\u001b[39;00m \u001b[39m_next_data\u001b[39m(\u001b[39mself\u001b[39m):\n\u001b[0;32m    673\u001b[0m     index \u001b[39m=\u001b[39m \u001b[39mself\u001b[39m\u001b[39m.\u001b[39m_next_index()  \u001b[39m# may raise StopIteration\u001b[39;00m\n\u001b[1;32m--> 674\u001b[0m     data \u001b[39m=\u001b[39m \u001b[39mself\u001b[39m\u001b[39m.\u001b[39m_dataset_fetcher\u001b[39m.\u001b[39mfetch(index)  \u001b[39m# may raise StopIteration\u001b[39;00m\n\u001b[0;32m    675\u001b[0m     \u001b[39mif\u001b[39;00m \u001b[39mself\u001b[39m\u001b[39m.\u001b[39m_pin_memory:\n\u001b[0;32m    676\u001b[0m         data \u001b[39m=\u001b[39m _utils\u001b[39m.\u001b[39mpin_memory\u001b[39m.\u001b[39mpin_memory(data, \u001b[39mself\u001b[39m\u001b[39m.\u001b[39m_pin_memory_device)\n",
      "File \u001b[1;32mc:\\ProgramData\\miniconda3\\envs\\gesture-arithmetic\\Lib\\site-packages\\torch\\utils\\data\\_utils\\fetch.py:51\u001b[0m, in \u001b[0;36m_MapDatasetFetcher.fetch\u001b[1;34m(self, possibly_batched_index)\u001b[0m\n\u001b[0;32m     49\u001b[0m         data \u001b[39m=\u001b[39m \u001b[39mself\u001b[39m\u001b[39m.\u001b[39mdataset\u001b[39m.\u001b[39m__getitems__(possibly_batched_index)\n\u001b[0;32m     50\u001b[0m     \u001b[39melse\u001b[39;00m:\n\u001b[1;32m---> 51\u001b[0m         data \u001b[39m=\u001b[39m [\u001b[39mself\u001b[39m\u001b[39m.\u001b[39mdataset[idx] \u001b[39mfor\u001b[39;00m idx \u001b[39min\u001b[39;00m possibly_batched_index]\n\u001b[0;32m     52\u001b[0m \u001b[39melse\u001b[39;00m:\n\u001b[0;32m     53\u001b[0m     data \u001b[39m=\u001b[39m \u001b[39mself\u001b[39m\u001b[39m.\u001b[39mdataset[possibly_batched_index]\n",
      "File \u001b[1;32mc:\\ProgramData\\miniconda3\\envs\\gesture-arithmetic\\Lib\\site-packages\\torch\\utils\\data\\_utils\\fetch.py:51\u001b[0m, in \u001b[0;36m<listcomp>\u001b[1;34m(.0)\u001b[0m\n\u001b[0;32m     49\u001b[0m         data \u001b[39m=\u001b[39m \u001b[39mself\u001b[39m\u001b[39m.\u001b[39mdataset\u001b[39m.\u001b[39m__getitems__(possibly_batched_index)\n\u001b[0;32m     50\u001b[0m     \u001b[39melse\u001b[39;00m:\n\u001b[1;32m---> 51\u001b[0m         data \u001b[39m=\u001b[39m [\u001b[39mself\u001b[39m\u001b[39m.\u001b[39mdataset[idx] \u001b[39mfor\u001b[39;00m idx \u001b[39min\u001b[39;00m possibly_batched_index]\n\u001b[0;32m     52\u001b[0m \u001b[39melse\u001b[39;00m:\n\u001b[0;32m     53\u001b[0m     data \u001b[39m=\u001b[39m \u001b[39mself\u001b[39m\u001b[39m.\u001b[39mdataset[possibly_batched_index]\n",
      "File \u001b[1;32mc:\\Users\\Dragon\\Desktop\\aipractice\\gesture-arithmetic\\image_dataset_loader.py:133\u001b[0m, in \u001b[0;36mCustomImageDataset.__getitem__\u001b[1;34m(self, idx)\u001b[0m\n\u001b[0;32m    131\u001b[0m img_path \u001b[39m=\u001b[39m \u001b[39mself\u001b[39m\u001b[39m.\u001b[39mimage_paths[idx]\n\u001b[0;32m    132\u001b[0m label \u001b[39m=\u001b[39m \u001b[39mself\u001b[39m\u001b[39m.\u001b[39mlabels[idx]\n\u001b[1;32m--> 133\u001b[0m landmarks \u001b[39m=\u001b[39m torch\u001b[39m.\u001b[39mfrom_numpy(process_image(img_path, label, \u001b[39mTrue\u001b[39;00m))\n\u001b[0;32m    135\u001b[0m \u001b[39m# if self.transform:\u001b[39;00m\n\u001b[0;32m    136\u001b[0m \u001b[39m#     landmarks = augment_landmarks(landmarks)\u001b[39;00m\n\u001b[0;32m    138\u001b[0m flattened \u001b[39m=\u001b[39m torch\u001b[39m.\u001b[39mflatten(landmarks)\u001b[39m.\u001b[39mto(torch\u001b[39m.\u001b[39mfloat32)\u001b[39m.\u001b[39mto(\u001b[39m'\u001b[39m\u001b[39mcuda\u001b[39m\u001b[39m'\u001b[39m)\n",
      "File \u001b[1;32mc:\\Users\\Dragon\\Desktop\\aipractice\\gesture-arithmetic\\image_dataset_loader.py:51\u001b[0m, in \u001b[0;36mprocess_image\u001b[1;34m(image_path, label, ISTRAIN)\u001b[0m\n\u001b[0;32m     45\u001b[0m base_options \u001b[39m=\u001b[39m mp\u001b[39m.\u001b[39mtasks\u001b[39m.\u001b[39mBaseOptions(model_asset_path\u001b[39m=\u001b[39m\u001b[39m'\u001b[39m\u001b[39mhand_landmarker.task\u001b[39m\u001b[39m'\u001b[39m)\n\u001b[0;32m     46\u001b[0m options \u001b[39m=\u001b[39m mp\u001b[39m.\u001b[39mtasks\u001b[39m.\u001b[39mvision\u001b[39m.\u001b[39mHandLandmarkerOptions(base_options\u001b[39m=\u001b[39mbase_options,\n\u001b[0;32m     47\u001b[0m                                                         min_hand_detection_confidence\u001b[39m=\u001b[39m\u001b[39m0.5\u001b[39m,\n\u001b[0;32m     48\u001b[0m                                                         min_hand_presence_confidence\u001b[39m=\u001b[39m\u001b[39m0.5\u001b[39m,\n\u001b[0;32m     49\u001b[0m                                                         min_tracking_confidence\u001b[39m=\u001b[39m\u001b[39m0.5\u001b[39m,\n\u001b[0;32m     50\u001b[0m                                         num_hands\u001b[39m=\u001b[39m\u001b[39m2\u001b[39m, running_mode\u001b[39m=\u001b[39mmp\u001b[39m.\u001b[39mtasks\u001b[39m.\u001b[39mvision\u001b[39m.\u001b[39mRunningMode\u001b[39m.\u001b[39mIMAGE)\n\u001b[1;32m---> 51\u001b[0m detector \u001b[39m=\u001b[39m mp\u001b[39m.\u001b[39mtasks\u001b[39m.\u001b[39mvision\u001b[39m.\u001b[39mHandLandmarker\u001b[39m.\u001b[39mcreate_from_options(options)\n\u001b[0;32m     53\u001b[0m \u001b[39m# ISTRAIN => (expected_len = 1 or expected_len = 2)\u001b[39;00m\n\u001b[0;32m     54\u001b[0m \u001b[39massert\u001b[39;00m \u001b[39mnot\u001b[39;00m ISTRAIN \u001b[39mor\u001b[39;00m (dict_to_len[label] \u001b[39m==\u001b[39m \u001b[39m1\u001b[39m \u001b[39mor\u001b[39;00m dict_to_len[label] \u001b[39m==\u001b[39m \u001b[39m2\u001b[39m), \u001b[39m'\u001b[39m\u001b[39munable to find correct matching from label \u001b[39m\u001b[39m'\u001b[39m \u001b[39m+\u001b[39m \u001b[39mstr\u001b[39m(label)\n",
      "File \u001b[1;32m~\\AppData\\Roaming\\Python\\Python311\\site-packages\\mediapipe\\tasks\\python\\vision\\hand_landmarker.py:364\u001b[0m, in \u001b[0;36mHandLandmarker.create_from_options\u001b[1;34m(cls, options)\u001b[0m\n\u001b[0;32m    342\u001b[0m   options\u001b[39m.\u001b[39mresult_callback(\n\u001b[0;32m    343\u001b[0m       hand_landmarks_detection_result,\n\u001b[0;32m    344\u001b[0m       image,\n\u001b[0;32m    345\u001b[0m       timestamp\u001b[39m.\u001b[39mvalue \u001b[39m/\u001b[39m\u001b[39m/\u001b[39m _MICRO_SECONDS_PER_MILLISECOND,\n\u001b[0;32m    346\u001b[0m   )\n\u001b[0;32m    348\u001b[0m task_info \u001b[39m=\u001b[39m _TaskInfo(\n\u001b[0;32m    349\u001b[0m     task_graph\u001b[39m=\u001b[39m_TASK_GRAPH_NAME,\n\u001b[0;32m    350\u001b[0m     input_streams\u001b[39m=\u001b[39m[\n\u001b[1;32m   (...)\u001b[0m\n\u001b[0;32m    362\u001b[0m     task_options\u001b[39m=\u001b[39moptions,\n\u001b[0;32m    363\u001b[0m )\n\u001b[1;32m--> 364\u001b[0m \u001b[39mreturn\u001b[39;00m \u001b[39mcls\u001b[39m(\n\u001b[0;32m    365\u001b[0m     task_info\u001b[39m.\u001b[39mgenerate_graph_config(\n\u001b[0;32m    366\u001b[0m         enable_flow_limiting\u001b[39m=\u001b[39moptions\u001b[39m.\u001b[39mrunning_mode\n\u001b[0;32m    367\u001b[0m         \u001b[39m==\u001b[39m _RunningMode\u001b[39m.\u001b[39mLIVE_STREAM\n\u001b[0;32m    368\u001b[0m     ),\n\u001b[0;32m    369\u001b[0m     options\u001b[39m.\u001b[39mrunning_mode,\n\u001b[0;32m    370\u001b[0m     packets_callback \u001b[39mif\u001b[39;00m options\u001b[39m.\u001b[39mresult_callback \u001b[39melse\u001b[39;00m \u001b[39mNone\u001b[39;00m,\n\u001b[0;32m    371\u001b[0m )\n",
      "\u001b[1;31mKeyboardInterrupt\u001b[0m: "
     ]
    }
   ],
   "source": [
    "cur_epoch = 0\n",
    "best_val_loss = 1_000_000\n",
    "writer = SummaryWriter()\n",
    "\n",
    "for epoch in range(EPOCHS):\n",
    "    print(f'EPOCH {cur_epoch + 1}')\n",
    "\n",
    "    model.train(True)\n",
    "    epoch_loss = train_model_one_epoch()\n",
    "\n",
    "    running_val_loss = 0.0\n",
    "    model.eval()\n",
    "\n",
    "    with torch.no_grad():\n",
    "        for i, vdata in enumerate(val_loader):\n",
    "            vinputs, vlabels = vdata\n",
    "            vinputs = vinputs.to('cuda')\n",
    "            vlabels = vlabels.to('cuda')\n",
    "            voutputs = model(vinputs)\n",
    "            voutputs = voutputs.to('cuda')\n",
    "            vloss = loss(voutputs, vlabels)\n",
    "            running_val_loss += vloss\n",
    "    \n",
    "    avg_vloss = running_val_loss / (i + 1)\n",
    "    print(f'(LOSS) EPOCH {epoch}: train {epoch_loss} val {avg_vloss}')\n",
    "    writer.add_scalar('training loss', epoch_loss, epoch * len(train_loader) + i)\n",
    "\n",
    "    if avg_vloss < best_val_loss:\n",
    "        best_val_loss = avg_vloss\n",
    "        model_path = f'models/model_1_{epoch}'\n",
    "    cur_epoch += 1\n",
    "writer.close()"
   ]
  },
  {
   "cell_type": "code",
   "execution_count": null,
   "metadata": {},
   "outputs": [],
   "source": [
    "for ind, info in enumerate(val_dataset):\n",
    "    path, lab = info\n",
    "\n",
    "    print(lab)\n",
    "    y_pred = model(path.reshape((1, 42)))\n",
    "    # print(path)\n",
    "    print(torch.nn.functional.softmax(y_pred, dim=1))"
   ]
  }
 ],
 "metadata": {
  "kernelspec": {
   "display_name": "gesture-arithmetic",
   "language": "python",
   "name": "python3"
  },
  "language_info": {
   "codemirror_mode": {
    "name": "ipython",
    "version": 3
   },
   "file_extension": ".py",
   "mimetype": "text/x-python",
   "name": "python",
   "nbconvert_exporter": "python",
   "pygments_lexer": "ipython3",
   "version": "3.11.4"
  },
  "orig_nbformat": 4,
  "vscode": {
   "interpreter": {
    "hash": "5284855763008e5629a4a58b8f1d97d4860c2d7a3f90558d08b8e9670eb9ceb6"
   }
  }
 },
 "nbformat": 4,
 "nbformat_minor": 2
}
