{
 "cells": [
  {
   "cell_type": "code",
   "execution_count": 1,
   "metadata": {},
   "outputs": [],
   "source": [
    "from ultralytics import YOLO\n",
    "from PIL import Image\n",
    "import cv2\n",
    "\n",
    "model = YOLO(\"yolov8n.pt\")"
   ]
  },
  {
   "cell_type": "code",
   "execution_count": 2,
   "metadata": {},
   "outputs": [
    {
     "name": "stderr",
     "output_type": "stream",
     "text": [
      "\n",
      "image 1/1 c:\\Users\\Dragon\\Desktop\\aipractice\\gesture-arithmetic\\train_numbers\\verify.jpg: 640x480 1 person, 124.8ms\n",
      "Speed: 4.0ms preprocess, 124.8ms inference, 2.0ms postprocess per image at shape (1, 3, 640, 480)\n"
     ]
    }
   ],
   "source": [
    "# max of 1 object detected\n",
    "# only images classed as 'Person' allowed\n",
    "results = model.predict(source=\"train_numbers/verify.jpg\", conf=.4, max_det=1, classes=0)\n",
    "\n",
    "for result in results:\n",
    "    b_box = tuple(x.item() for x in result.boxes.xyxy[0])\n",
    "\n",
    "    im1 = Image.open(\"train_numbers/verify_working/verify.jpg\")\n",
    "    cropped = im1.crop(b_box)\n",
    "    cropped.save('train_numbers/verify_working/cropped_test/verify_cropped.jpg')"
   ]
  }
 ],
 "metadata": {
  "kernelspec": {
   "display_name": "gesture-arithmetic",
   "language": "python",
   "name": "python3"
  },
  "language_info": {
   "codemirror_mode": {
    "name": "ipython",
    "version": 3
   },
   "file_extension": ".py",
   "mimetype": "text/x-python",
   "name": "python",
   "nbconvert_exporter": "python",
   "pygments_lexer": "ipython3",
   "version": "3.11.4"
  },
  "orig_nbformat": 4
 },
 "nbformat": 4,
 "nbformat_minor": 2
}
