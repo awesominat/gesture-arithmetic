{
 "cells": [
  {
   "cell_type": "code",
   "execution_count": 18,
   "metadata": {},
   "outputs": [],
   "source": [
    "import image_dataset_loader\n",
    "from matplotlib import pyplot as plt\n",
    "from sklearn import svm\n",
    "import numpy as np\n",
    "import mediapipe as mp\n",
    "import cv2\n",
    "from algebra_operators import eval_if_allowed, evaluate_expression\n",
    "from time import time\n",
    "from os import path\n",
    "import pickle"
   ]
  },
  {
   "cell_type": "code",
   "execution_count": 7,
   "metadata": {},
   "outputs": [],
   "source": [
    "train_dataset, test_dataset = image_dataset_loader.create_datasets('new_train_data/data/')"
   ]
  },
  {
   "cell_type": "code",
   "execution_count": 8,
   "metadata": {},
   "outputs": [],
   "source": [
    "x_train, y_train = zip(*train_dataset)\n",
    "x_test, y_test = zip(*test_dataset)\n",
    "\n",
    "num_features = 126  # left/right hand, 21 landmarks, x/y/z positions"
   ]
  },
  {
   "cell_type": "code",
   "execution_count": 15,
   "metadata": {},
   "outputs": [
    {
     "data": {
      "text/plain": [
       "True"
      ]
     },
     "execution_count": 15,
     "metadata": {},
     "output_type": "execute_result"
    }
   ],
   "source": [
    "if path.exists('new_train_data'):\n",
    "    print('processing data from existing folder')\n",
    "\n",
    "    flattened_x_train_left = np.zeros((len(x_train), num_features))\n",
    "    y_train_left = np.zeros((len(x_train), ), dtype=np.int8)\n",
    "\n",
    "    for i in range(len(x_train)):\n",
    "        flattened_x_train_left[i, :] = image_dataset_loader.process_image(x_train[i], y_train[i], True).flatten()\n",
    "        y_train_left[i] = y_train[i]\n",
    "\n",
    "    flattened_x_test_left = np.zeros((len(x_test), num_features))\n",
    "    y_test_left = np.zeros((len(x_test), ), dtype=np.int8)\n",
    "\n",
    "    for i in range(len(x_test)):\n",
    "        flattened_x_test_left[i, :] = image_dataset_loader.process_image(x_test[i], y_test[i], True).flatten()\n",
    "        y_test_left[i] = y_test[i]\n",
    "\n",
    "    print('applying data augmentation to new dataset')\n",
    "\n",
    "    flattened_x_train = np.zeros((len(x_train) * 2, num_features))\n",
    "    y_train_both = np.zeros((len(x_train) * 2, ), dtype=np.int8)\n",
    "\n",
    "    for i in range(len(x_train)):\n",
    "        left_hand = image_dataset_loader.process_image(x_train[i], y_train[i], True)\n",
    "\n",
    "        right_hand = np.copy(left_hand)\n",
    "        right_hand[:, :, 0] = 1 - right_hand[:, :, 0]\n",
    "        right_hand = np.flip(right_hand, axis=0)\n",
    "\n",
    "        left_hand_flattened = left_hand.flatten()\n",
    "        right_hand_flattened = right_hand.flatten()\n",
    "\n",
    "        flattened_x_train[2 * i, :] = left_hand_flattened\n",
    "        flattened_x_train[2 * i + 1, :] = right_hand_flattened\n",
    "\n",
    "        y_train_both[2 * i] = y_train[i]\n",
    "        y_train_both[2 * i + 1] = y_train[i]\n",
    "\n",
    "    flattened_x_test = np.zeros((len(x_test) * 2, num_features))\n",
    "    y_test_both = np.zeros((len(x_test) * 2, ), dtype=np.int8)\n",
    "\n",
    "    for i in range(len(x_test)):\n",
    "        left_hand = image_dataset_loader.process_image(x_test[i], y_test[i], True)\n",
    "\n",
    "        right_hand = np.copy(left_hand)\n",
    "        right_hand[:, :, 0] = 1 - right_hand[:, :, 0]\n",
    "        right_hand = np.flip(right_hand, axis=0)\n",
    "\n",
    "        left_hand_flattened = left_hand.flatten()\n",
    "        right_hand_flattened = right_hand.flatten()\n",
    "\n",
    "        flattened_x_test[2 * i, :] = left_hand_flattened\n",
    "        flattened_x_test[2 * i + 1, :] = right_hand_flattened\n",
    "\n",
    "        y_test_both[2 * i] = y_test[i]\n",
    "        y_test_both[2 * i + 1] = y_test[i]\n",
    "else:\n",
    "    print('folder not found, ignoring')"
   ]
  },
  {
   "cell_type": "code",
   "execution_count": 16,
   "metadata": {},
   "outputs": [
    {
     "data": {
      "text/plain": [
       "False"
      ]
     },
     "execution_count": 16,
     "metadata": {},
     "output_type": "execute_result"
    }
   ],
   "source": [
    "path.exists('models/model_no_augmentv1.sav')"
   ]
  },
  {
   "cell_type": "code",
   "execution_count": 21,
   "metadata": {},
   "outputs": [
    {
     "name": "stdout",
     "output_type": "stream",
     "text": [
      "found cached model v1\n",
      "found cached model v2\n"
     ]
    }
   ],
   "source": [
    "if not path.exists('models/model_no_augmentv1.sav'):\n",
    "    clf = svm.LinearSVC(dual=\"auto\")\n",
    "    clf.fit(flattened_x_train_left, y_train_left)\n",
    "    pickle.dump(clf, open('models/model_no_augmentv1.sav', 'wb'))\n",
    "else:\n",
    "    print('found cached model v1')\n",
    "    clf = pickle.load(open('models/model_no_augmentv1.sav', 'rb'))\n",
    "\n",
    "if not path.exists('models/model_augmentv2.sav'):\n",
    "    clf2 = svm.LinearSVC(dual=\"auto\")\n",
    "    clf2.fit(flattened_x_train, y_train_both)\n",
    "    pickle.dump(clf2, open('models/model_augmentv2.sav', 'wb'))\n",
    "else:\n",
    "    print('found cached model v2')\n",
    "    clf2 = pickle.load(open('models/model_augmentv2.sav', 'rb'))"
   ]
  },
  {
   "cell_type": "code",
   "execution_count": 24,
   "metadata": {},
   "outputs": [
    {
     "name": "stdout",
     "output_type": "stream",
     "text": [
      "SVM ACCURACY TRAINED ON LEFT HAND, LEFT HAND TEST 100.0%\n",
      "SVM ACCURACY TRAINED ON LEFT HAND, RIGHT HAND TEST 57.14285714285714%\n",
      "SVM ACCURACY TRAINED ON LEFT & RIGHT HAND (AUGMENTATION), RIGHT HAND TEST 100.0%\n"
     ]
    }
   ],
   "source": [
    "test_predictions = np.zeros((flattened_x_test_left.shape[0], 1))\n",
    "accuracy_test1, accuracy_test2, accuracy_test3 = 0, 0, 0\n",
    "\n",
    "test_predictions2 = np.zeros((flattened_x_test.shape[0], 1))\n",
    "test_predictions3 = np.zeros((flattened_x_test.shape[0], 1))\n",
    "\n",
    "for i in range(len(flattened_x_test_left)):\n",
    "    landmark, label = flattened_x_test_left[i], y_test_left[i]\n",
    "\n",
    "    # test 1\n",
    "    dec1 = clf.decision_function(landmark.reshape(1, -1))\n",
    "    test_predictions[i] = np.argmax(dec1,axis=1) == label\n",
    "\n",
    "for i in range(len(flattened_x_test)):\n",
    "    landmark, label = flattened_x_test[i], y_test_both[i]\n",
    "\n",
    "    # test 2\n",
    "    dec2 = clf.decision_function(landmark.reshape(1, -1))\n",
    "    test_predictions2[i] = np.argmax(dec2,axis=1) == label\n",
    "\n",
    "    # test 3\n",
    "    dec3 = clf2.decision_function(landmark.reshape(1, -1))\n",
    "    test_predictions3[i] = np.argmax(dec3,axis=1) == label\n",
    "\n",
    "accuracy_test1 = np.sum(test_predictions) / test_predictions.shape[0]\n",
    "accuracy_test2 = np.sum(test_predictions2) / test_predictions2.shape[0]\n",
    "accuracy_test3 = np.sum(test_predictions3) / test_predictions3.shape[0]\n",
    "\n",
    "print('SVM ACCURACY TRAINED ON LEFT HAND, LEFT HAND TEST ' + str(accuracy_test1 * 100) + '%')\n",
    "print('SVM ACCURACY TRAINED ON LEFT HAND, RIGHT HAND TEST ' + str(accuracy_test2 * 100) + '%')\n",
    "print('SVM ACCURACY TRAINED ON LEFT & RIGHT HAND (AUGMENTATION), RIGHT HAND TEST ' + str(accuracy_test3 * 100) + '%')"
   ]
  },
  {
   "attachments": {},
   "cell_type": "markdown",
   "metadata": {},
   "source": [
    "61.9% accuracy for hand_world_landmarks\n",
    "\n",
    "92.8% accuracy for hand_landmarks on 1 hand, restricted to 0-5\n",
    "\n",
    "100% accuracy for hand_landmarks on 2 hands, restricted to 0-13 with full information on left/right hand and x/y/z"
   ]
  },
  {
   "cell_type": "code",
   "execution_count": 27,
   "metadata": {},
   "outputs": [
    {
     "name": "stdout",
     "output_type": "stream",
     "text": [
      "7\n"
     ]
    },
    {
     "data": {
      "image/png": "[encoded data removed]",
      "text/plain": [
       "<Figure size 640x480 with 1 Axes>"
      ]
     },
     "metadata": {},
     "output_type": "display_data"
    },
    {
     "data": {
      "image/png": "[encoded data removed]",
      "text/plain": [
       "<Figure size 640x480 with 1 Axes>"
      ]
     },
     "metadata": {},
     "output_type": "display_data"
    }
   ],
   "source": [
    "for i in range(1,flattened_x_train_left.shape[0]):\n",
    "    landmark = flattened_x_train_left[i]\n",
    "    label = y_train_left[i]\n",
    "    \n",
    "    print(label)\n",
    "    shaped = landmark.reshape(2, 21, 3)\n",
    "    for i in range(shaped.shape[0]):\n",
    "        x, y, z = zip(*shaped[i])\n",
    "\n",
    "        fig = plt.figure()\n",
    "        ax = fig.add_subplot(111, projection='3d')\n",
    "\n",
    "        ax.scatter(x, y, z)\n",
    "        ax.set_xlabel('X')\n",
    "        ax.set_ylabel('Y')\n",
    "        ax.set_zlabel('Depth')\n",
    "        ax.view_init(elev=-90, azim=-90)\n",
    "        plt.show()\n",
    "    break"
   ]
  },
  {
   "attachments": {},
   "cell_type": "markdown",
   "metadata": {},
   "source": [
    "yolov8 + CNN had too much variability\n",
    "\n",
    "mediapipe + NN had subpar accuracy\n",
    "\n",
    "mediapipe + SVM + x,y 1 hand landmarks had 92.8% accuracy\n",
    "\n",
    "mediapipe + SVM + x,y,z 2 hand landmarks had 100% accuracy ON LEFT HAND and 52% on the RIGHT HAND\n",
    "\n",
    "mediapipe + SVM + x,y,z 2 hand landmarks with augmented data has 100% on both left and right hand"
   ]
  },
  {
   "cell_type": "code",
   "execution_count": null,
   "metadata": {},
   "outputs": [],
   "source": [
    "mp_hands = mp.solutions.hands\n",
    "hands = mp_hands.Hands()\n",
    "mp_drawing = mp.solutions.drawing_utils\n",
    "\n",
    "cap = cv2.VideoCapture(0)\n",
    "\n",
    "if not cap.isOpened():\n",
    "    print(\"video stream unavailable\")\n",
    "    exit()\n",
    "\n",
    "displayed_text = ''\n",
    "displayed_count, last_displayed_text = 0, ''\n",
    "\n",
    "display_result, start_time = '', 0\n",
    "\n",
    "def add_to_displayed(res, last_displayed_text_arg, displayed_count_arg, displayed_text_arg):\n",
    "    if res == last_displayed_text_arg:\n",
    "        displayed_count_arg += 1\n",
    "    else:\n",
    "        displayed_count_arg = 0\n",
    "    # last_displayed_text = res \n",
    "    if displayed_count_arg == 5:\n",
    "        displayed_text_arg += res\n",
    "    return res, displayed_count_arg, displayed_text_arg\n",
    "\n",
    "def draw_rectangle(frame_to_use, text):\n",
    "    height, width, _ = frame_to_use.shape\n",
    "    rect_start_point = (50, height - 50)\n",
    "    rect_end_point = (width - 50, height - 10)\n",
    "\n",
    "    cv2.rectangle(frame_to_use, (50, height - 50), (width - 50, height - 10), (125,125,125), -1)\n",
    "\n",
    "    font, font_size, font_color, font_thickness = cv2.FONT_HERSHEY_SIMPLEX, 1, (0, 255, 0), 2\n",
    "    text_size = cv2.getTextSize(text, font, font_size, font_thickness)[0]\n",
    "    text_x = rect_start_point[0] + (rect_end_point[0] - rect_start_point[0] - text_size[0]) // 2\n",
    "    text_y = rect_start_point[1] + (rect_end_point[1] - rect_start_point[1] + text_size[1]) // 2\n",
    "    cv2.putText(frame_to_use, text, (text_x, text_y), font, font_size, font_color, font_thickness, lineType=cv2.LINE_AA)\n",
    "\n",
    "while cap.isOpened():\n",
    "    ret, frame = cap.read()\n",
    "    if not ret:\n",
    "        continue\n",
    "\n",
    "    rgb_frame = cv2.cvtColor(frame, cv2.COLOR_BGR2RGB)\n",
    "    if display_result != '':\n",
    "        if time() - start_time > 8:\n",
    "            display_result = ''\n",
    "            displayed_text = ''\n",
    "            start_time = 0\n",
    "        draw_rectangle(frame, 'Result: ' + str(display_result))\n",
    "    else:\n",
    "        results = hands.process(rgb_frame)\n",
    "\n",
    "        if results is not None and results.multi_hand_landmarks:\n",
    "            for hand_landmarks in results.multi_hand_landmarks:\n",
    "                mp_drawing.draw_landmarks(frame, hand_landmarks, mp_hands.HAND_CONNECTIONS)\n",
    "            flattened = image_dataset_loader.process_image_prod(results.multi_hand_landmarks, results.multi_handedness)\n",
    "            dec = clf2.decision_function(flattened.reshape(1, -1))\n",
    "            res = str(np.argmax(dec,axis=1)[0])\n",
    "\n",
    "            if res == '13':\n",
    "                start_time = time()\n",
    "                display_result = evaluate_expression(displayed_text) \n",
    "            else:\n",
    "                if res == '11':\n",
    "                    res = '+'\n",
    "                elif res == '12':\n",
    "                    res = 'x'\n",
    "\n",
    "                if (res == '+' or res == 'x') and eval_if_allowed(displayed_text, res):\n",
    "                    last_displayed_text, displayed_count, displayed_text = add_to_displayed(res, last_displayed_text, displayed_count, displayed_text)\n",
    "                elif not (res == '+' or res == 'x'):\n",
    "                    last_displayed_text, displayed_count, displayed_text = add_to_displayed(res, last_displayed_text, displayed_count, displayed_text)\n",
    "            \n",
    "            cv2.putText(frame, res, (10, 90), cv2.FONT_HERSHEY_SCRIPT_SIMPLEX, 3, (0, 0, 255), 2)\n",
    "\n",
    "        draw_rectangle(frame, displayed_text)\n",
    "\n",
    "    cv2.imshow(\"Hand Tracking\", frame)\n",
    "\n",
    "    if cv2.waitKey(1) & 0xFF == ord('q'):\n",
    "        break\n",
    "\n",
    "cap.release()\n",
    "cv2.destroyAllWindows()"
   ]
  },
  {
   "cell_type": "code",
   "execution_count": null,
   "metadata": {},
   "outputs": [],
   "source": []
  }
 ],
 "metadata": {
  "kernelspec": {
   "display_name": "gesture-arithmetic",
   "language": "python",
   "name": "python3"
  },
  "language_info": {
   "codemirror_mode": {
    "name": "ipython",
    "version": 3
   },
   "file_extension": ".py",
   "mimetype": "text/x-python",
   "name": "python",
   "nbconvert_exporter": "python",
   "pygments_lexer": "ipython3",
   "version": "3.11.4"
  },
  "orig_nbformat": 4,
  "vscode": {
   "interpreter": {
    "hash": "5284855763008e5629a4a58b8f1d97d4860c2d7a3f90558d08b8e9670eb9ceb6"
   }
  }
 },
 "nbformat": 4,
 "nbformat_minor": 2
}
