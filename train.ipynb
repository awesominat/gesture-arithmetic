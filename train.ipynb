{
 "cells": [
  {
   "cell_type": "code",
   "execution_count": 1,
   "metadata": {},
   "outputs": [],
   "source": [
    "import number_model\n",
    "import torch"
   ]
  },
  {
   "cell_type": "code",
   "execution_count": 2,
   "metadata": {},
   "outputs": [
    {
     "name": "stdout",
     "output_type": "stream",
     "text": [
      "In torch.Size([1, 3, 640, 480]) Out torch.Size([1, 11])\n"
     ]
    }
   ],
   "source": [
    "model = number_model.NumberModel(11)  # 0-9, the + and the x symbol\n",
    "x = torch.randn((1, 3, 640, 480))\n",
    "output = model(x)\n",
    "assert output.shape == torch.Size((1, 11)), 'the output shape is wrong'\n",
    "print(f'In {x.shape} Out {output.shape}')"
   ]
  },
  {
   "cell_type": "code",
   "execution_count": null,
   "metadata": {},
   "outputs": [],
   "source": [
    "# continue"
   ]
  }
 ],
 "metadata": {
  "kernelspec": {
   "display_name": "gesture-arithmetic",
   "language": "python",
   "name": "python3"
  },
  "language_info": {
   "codemirror_mode": {
    "name": "ipython",
    "version": 3
   },
   "file_extension": ".py",
   "mimetype": "text/x-python",
   "name": "python",
   "nbconvert_exporter": "python",
   "pygments_lexer": "ipython3",
   "version": "3.11.4"
  },
  "orig_nbformat": 4
 },
 "nbformat": 4,
 "nbformat_minor": 2
}
